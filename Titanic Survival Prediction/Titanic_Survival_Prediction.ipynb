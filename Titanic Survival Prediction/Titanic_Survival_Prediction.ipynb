{
  "cells": [
    {
      "cell_type": "code",
      "execution_count": 1,
      "metadata": {
        "id": "06tAZQdDU7jJ"
      },
      "outputs": [],
      "source": [
        "import numpy as np\n",
        "import pandas as pd\n",
        "import seaborn as sns\n",
        "import matplotlib.pyplot as plt\n",
        "from sklearn.metrics import accuracy_score"
      ]
    },
    {
      "cell_type": "code",
      "execution_count": 2,
      "metadata": {
        "colab": {
          "base_uri": "https://localhost:8080/",
          "height": 363
        },
        "id": "t_B8IKmsFQZX",
        "outputId": "6c8246ee-5448-4a1d-c8f4-2bb77b94f06e"
      },
      "outputs": [
        {
          "data": {
            "text/html": [
              "<div>\n",
              "<style scoped>\n",
              "    .dataframe tbody tr th:only-of-type {\n",
              "        vertical-align: middle;\n",
              "    }\n",
              "\n",
              "    .dataframe tbody tr th {\n",
              "        vertical-align: top;\n",
              "    }\n",
              "\n",
              "    .dataframe thead th {\n",
              "        text-align: right;\n",
              "    }\n",
              "</style>\n",
              "<table border=\"1\" class=\"dataframe\">\n",
              "  <thead>\n",
              "    <tr style=\"text-align: right;\">\n",
              "      <th></th>\n",
              "      <th>PassengerId</th>\n",
              "      <th>Survived</th>\n",
              "      <th>Pclass</th>\n",
              "      <th>Name</th>\n",
              "      <th>Sex</th>\n",
              "      <th>Age</th>\n",
              "      <th>SibSp</th>\n",
              "      <th>Parch</th>\n",
              "      <th>Ticket</th>\n",
              "      <th>Fare</th>\n",
              "      <th>Cabin</th>\n",
              "      <th>Embarked</th>\n",
              "    </tr>\n",
              "  </thead>\n",
              "  <tbody>\n",
              "    <tr>\n",
              "      <th>0</th>\n",
              "      <td>892</td>\n",
              "      <td>0</td>\n",
              "      <td>3</td>\n",
              "      <td>Kelly, Mr. James</td>\n",
              "      <td>male</td>\n",
              "      <td>34.5</td>\n",
              "      <td>0</td>\n",
              "      <td>0</td>\n",
              "      <td>330911</td>\n",
              "      <td>7.8292</td>\n",
              "      <td>NaN</td>\n",
              "      <td>Q</td>\n",
              "    </tr>\n",
              "    <tr>\n",
              "      <th>1</th>\n",
              "      <td>893</td>\n",
              "      <td>1</td>\n",
              "      <td>3</td>\n",
              "      <td>Wilkes, Mrs. James (Ellen Needs)</td>\n",
              "      <td>female</td>\n",
              "      <td>47.0</td>\n",
              "      <td>1</td>\n",
              "      <td>0</td>\n",
              "      <td>363272</td>\n",
              "      <td>7.0000</td>\n",
              "      <td>NaN</td>\n",
              "      <td>S</td>\n",
              "    </tr>\n",
              "    <tr>\n",
              "      <th>2</th>\n",
              "      <td>894</td>\n",
              "      <td>0</td>\n",
              "      <td>2</td>\n",
              "      <td>Myles, Mr. Thomas Francis</td>\n",
              "      <td>male</td>\n",
              "      <td>62.0</td>\n",
              "      <td>0</td>\n",
              "      <td>0</td>\n",
              "      <td>240276</td>\n",
              "      <td>9.6875</td>\n",
              "      <td>NaN</td>\n",
              "      <td>Q</td>\n",
              "    </tr>\n",
              "    <tr>\n",
              "      <th>3</th>\n",
              "      <td>895</td>\n",
              "      <td>0</td>\n",
              "      <td>3</td>\n",
              "      <td>Wirz, Mr. Albert</td>\n",
              "      <td>male</td>\n",
              "      <td>27.0</td>\n",
              "      <td>0</td>\n",
              "      <td>0</td>\n",
              "      <td>315154</td>\n",
              "      <td>8.6625</td>\n",
              "      <td>NaN</td>\n",
              "      <td>S</td>\n",
              "    </tr>\n",
              "    <tr>\n",
              "      <th>4</th>\n",
              "      <td>896</td>\n",
              "      <td>1</td>\n",
              "      <td>3</td>\n",
              "      <td>Hirvonen, Mrs. Alexander (Helga E Lindqvist)</td>\n",
              "      <td>female</td>\n",
              "      <td>22.0</td>\n",
              "      <td>1</td>\n",
              "      <td>1</td>\n",
              "      <td>3101298</td>\n",
              "      <td>12.2875</td>\n",
              "      <td>NaN</td>\n",
              "      <td>S</td>\n",
              "    </tr>\n",
              "    <tr>\n",
              "      <th>5</th>\n",
              "      <td>897</td>\n",
              "      <td>0</td>\n",
              "      <td>3</td>\n",
              "      <td>Svensson, Mr. Johan Cervin</td>\n",
              "      <td>male</td>\n",
              "      <td>14.0</td>\n",
              "      <td>0</td>\n",
              "      <td>0</td>\n",
              "      <td>7538</td>\n",
              "      <td>9.2250</td>\n",
              "      <td>NaN</td>\n",
              "      <td>S</td>\n",
              "    </tr>\n",
              "    <tr>\n",
              "      <th>6</th>\n",
              "      <td>898</td>\n",
              "      <td>1</td>\n",
              "      <td>3</td>\n",
              "      <td>Connolly, Miss. Kate</td>\n",
              "      <td>female</td>\n",
              "      <td>30.0</td>\n",
              "      <td>0</td>\n",
              "      <td>0</td>\n",
              "      <td>330972</td>\n",
              "      <td>7.6292</td>\n",
              "      <td>NaN</td>\n",
              "      <td>Q</td>\n",
              "    </tr>\n",
              "    <tr>\n",
              "      <th>7</th>\n",
              "      <td>899</td>\n",
              "      <td>0</td>\n",
              "      <td>2</td>\n",
              "      <td>Caldwell, Mr. Albert Francis</td>\n",
              "      <td>male</td>\n",
              "      <td>26.0</td>\n",
              "      <td>1</td>\n",
              "      <td>1</td>\n",
              "      <td>248738</td>\n",
              "      <td>29.0000</td>\n",
              "      <td>NaN</td>\n",
              "      <td>S</td>\n",
              "    </tr>\n",
              "    <tr>\n",
              "      <th>8</th>\n",
              "      <td>900</td>\n",
              "      <td>1</td>\n",
              "      <td>3</td>\n",
              "      <td>Abrahim, Mrs. Joseph (Sophie Halaut Easu)</td>\n",
              "      <td>female</td>\n",
              "      <td>18.0</td>\n",
              "      <td>0</td>\n",
              "      <td>0</td>\n",
              "      <td>2657</td>\n",
              "      <td>7.2292</td>\n",
              "      <td>NaN</td>\n",
              "      <td>C</td>\n",
              "    </tr>\n",
              "    <tr>\n",
              "      <th>9</th>\n",
              "      <td>901</td>\n",
              "      <td>0</td>\n",
              "      <td>3</td>\n",
              "      <td>Davies, Mr. John Samuel</td>\n",
              "      <td>male</td>\n",
              "      <td>21.0</td>\n",
              "      <td>2</td>\n",
              "      <td>0</td>\n",
              "      <td>A/4 48871</td>\n",
              "      <td>24.1500</td>\n",
              "      <td>NaN</td>\n",
              "      <td>S</td>\n",
              "    </tr>\n",
              "  </tbody>\n",
              "</table>\n",
              "</div>"
            ],
            "text/plain": [
              "   PassengerId  Survived  Pclass  \\\n",
              "0          892         0       3   \n",
              "1          893         1       3   \n",
              "2          894         0       2   \n",
              "3          895         0       3   \n",
              "4          896         1       3   \n",
              "5          897         0       3   \n",
              "6          898         1       3   \n",
              "7          899         0       2   \n",
              "8          900         1       3   \n",
              "9          901         0       3   \n",
              "\n",
              "                                           Name     Sex   Age  SibSp  Parch  \\\n",
              "0                              Kelly, Mr. James    male  34.5      0      0   \n",
              "1              Wilkes, Mrs. James (Ellen Needs)  female  47.0      1      0   \n",
              "2                     Myles, Mr. Thomas Francis    male  62.0      0      0   \n",
              "3                              Wirz, Mr. Albert    male  27.0      0      0   \n",
              "4  Hirvonen, Mrs. Alexander (Helga E Lindqvist)  female  22.0      1      1   \n",
              "5                    Svensson, Mr. Johan Cervin    male  14.0      0      0   \n",
              "6                          Connolly, Miss. Kate  female  30.0      0      0   \n",
              "7                  Caldwell, Mr. Albert Francis    male  26.0      1      1   \n",
              "8     Abrahim, Mrs. Joseph (Sophie Halaut Easu)  female  18.0      0      0   \n",
              "9                       Davies, Mr. John Samuel    male  21.0      2      0   \n",
              "\n",
              "      Ticket     Fare Cabin Embarked  \n",
              "0     330911   7.8292   NaN        Q  \n",
              "1     363272   7.0000   NaN        S  \n",
              "2     240276   9.6875   NaN        Q  \n",
              "3     315154   8.6625   NaN        S  \n",
              "4    3101298  12.2875   NaN        S  \n",
              "5       7538   9.2250   NaN        S  \n",
              "6     330972   7.6292   NaN        Q  \n",
              "7     248738  29.0000   NaN        S  \n",
              "8       2657   7.2292   NaN        C  \n",
              "9  A/4 48871  24.1500   NaN        S  "
            ]
          },
          "execution_count": 2,
          "metadata": {},
          "output_type": "execute_result"
        }
      ],
      "source": [
        "titanic = pd.read_csv('./tested.csv')\n",
        "titanic.head(10)"
      ]
    },
    {
      "cell_type": "code",
      "execution_count": 3,
      "metadata": {
        "colab": {
          "base_uri": "https://localhost:8080/"
        },
        "id": "tXeqGC6idjzq",
        "outputId": "9632905b-9733-4e09-fd94-982b24a1ed98"
      },
      "outputs": [
        {
          "data": {
            "text/plain": [
              "(418, 12)"
            ]
          },
          "execution_count": 3,
          "metadata": {},
          "output_type": "execute_result"
        }
      ],
      "source": [
        "titanic.shape"
      ]
    },
    {
      "cell_type": "code",
      "execution_count": 4,
      "metadata": {
        "colab": {
          "base_uri": "https://localhost:8080/",
          "height": 300
        },
        "id": "x98-xbe-WgbM",
        "outputId": "495f29cf-0109-40f4-8919-b9fa0fa73e2c"
      },
      "outputs": [
        {
          "data": {
            "text/html": [
              "<div>\n",
              "<style scoped>\n",
              "    .dataframe tbody tr th:only-of-type {\n",
              "        vertical-align: middle;\n",
              "    }\n",
              "\n",
              "    .dataframe tbody tr th {\n",
              "        vertical-align: top;\n",
              "    }\n",
              "\n",
              "    .dataframe thead th {\n",
              "        text-align: right;\n",
              "    }\n",
              "</style>\n",
              "<table border=\"1\" class=\"dataframe\">\n",
              "  <thead>\n",
              "    <tr style=\"text-align: right;\">\n",
              "      <th></th>\n",
              "      <th>PassengerId</th>\n",
              "      <th>Survived</th>\n",
              "      <th>Pclass</th>\n",
              "      <th>Age</th>\n",
              "      <th>SibSp</th>\n",
              "      <th>Parch</th>\n",
              "      <th>Fare</th>\n",
              "    </tr>\n",
              "  </thead>\n",
              "  <tbody>\n",
              "    <tr>\n",
              "      <th>count</th>\n",
              "      <td>418.000000</td>\n",
              "      <td>418.000000</td>\n",
              "      <td>418.000000</td>\n",
              "      <td>332.000000</td>\n",
              "      <td>418.000000</td>\n",
              "      <td>418.000000</td>\n",
              "      <td>417.000000</td>\n",
              "    </tr>\n",
              "    <tr>\n",
              "      <th>mean</th>\n",
              "      <td>1100.500000</td>\n",
              "      <td>0.363636</td>\n",
              "      <td>2.265550</td>\n",
              "      <td>30.272590</td>\n",
              "      <td>0.447368</td>\n",
              "      <td>0.392344</td>\n",
              "      <td>35.627188</td>\n",
              "    </tr>\n",
              "    <tr>\n",
              "      <th>std</th>\n",
              "      <td>120.810458</td>\n",
              "      <td>0.481622</td>\n",
              "      <td>0.841838</td>\n",
              "      <td>14.181209</td>\n",
              "      <td>0.896760</td>\n",
              "      <td>0.981429</td>\n",
              "      <td>55.907576</td>\n",
              "    </tr>\n",
              "    <tr>\n",
              "      <th>min</th>\n",
              "      <td>892.000000</td>\n",
              "      <td>0.000000</td>\n",
              "      <td>1.000000</td>\n",
              "      <td>0.170000</td>\n",
              "      <td>0.000000</td>\n",
              "      <td>0.000000</td>\n",
              "      <td>0.000000</td>\n",
              "    </tr>\n",
              "    <tr>\n",
              "      <th>25%</th>\n",
              "      <td>996.250000</td>\n",
              "      <td>0.000000</td>\n",
              "      <td>1.000000</td>\n",
              "      <td>21.000000</td>\n",
              "      <td>0.000000</td>\n",
              "      <td>0.000000</td>\n",
              "      <td>7.895800</td>\n",
              "    </tr>\n",
              "    <tr>\n",
              "      <th>50%</th>\n",
              "      <td>1100.500000</td>\n",
              "      <td>0.000000</td>\n",
              "      <td>3.000000</td>\n",
              "      <td>27.000000</td>\n",
              "      <td>0.000000</td>\n",
              "      <td>0.000000</td>\n",
              "      <td>14.454200</td>\n",
              "    </tr>\n",
              "    <tr>\n",
              "      <th>75%</th>\n",
              "      <td>1204.750000</td>\n",
              "      <td>1.000000</td>\n",
              "      <td>3.000000</td>\n",
              "      <td>39.000000</td>\n",
              "      <td>1.000000</td>\n",
              "      <td>0.000000</td>\n",
              "      <td>31.500000</td>\n",
              "    </tr>\n",
              "    <tr>\n",
              "      <th>max</th>\n",
              "      <td>1309.000000</td>\n",
              "      <td>1.000000</td>\n",
              "      <td>3.000000</td>\n",
              "      <td>76.000000</td>\n",
              "      <td>8.000000</td>\n",
              "      <td>9.000000</td>\n",
              "      <td>512.329200</td>\n",
              "    </tr>\n",
              "  </tbody>\n",
              "</table>\n",
              "</div>"
            ],
            "text/plain": [
              "       PassengerId    Survived      Pclass         Age       SibSp  \\\n",
              "count   418.000000  418.000000  418.000000  332.000000  418.000000   \n",
              "mean   1100.500000    0.363636    2.265550   30.272590    0.447368   \n",
              "std     120.810458    0.481622    0.841838   14.181209    0.896760   \n",
              "min     892.000000    0.000000    1.000000    0.170000    0.000000   \n",
              "25%     996.250000    0.000000    1.000000   21.000000    0.000000   \n",
              "50%    1100.500000    0.000000    3.000000   27.000000    0.000000   \n",
              "75%    1204.750000    1.000000    3.000000   39.000000    1.000000   \n",
              "max    1309.000000    1.000000    3.000000   76.000000    8.000000   \n",
              "\n",
              "            Parch        Fare  \n",
              "count  418.000000  417.000000  \n",
              "mean     0.392344   35.627188  \n",
              "std      0.981429   55.907576  \n",
              "min      0.000000    0.000000  \n",
              "25%      0.000000    7.895800  \n",
              "50%      0.000000   14.454200  \n",
              "75%      0.000000   31.500000  \n",
              "max      9.000000  512.329200  "
            ]
          },
          "execution_count": 4,
          "metadata": {},
          "output_type": "execute_result"
        }
      ],
      "source": [
        "titanic.describe()"
      ]
    },
    {
      "cell_type": "code",
      "execution_count": 5,
      "metadata": {
        "colab": {
          "base_uri": "https://localhost:8080/"
        },
        "id": "sSRwu1uHFGO0",
        "outputId": "1dff086c-20bf-4ab8-8078-e466a4c4ad5f"
      },
      "outputs": [
        {
          "data": {
            "text/plain": [
              "Survived\n",
              "0    266\n",
              "1    152\n",
              "Name: count, dtype: int64"
            ]
          },
          "execution_count": 5,
          "metadata": {},
          "output_type": "execute_result"
        }
      ],
      "source": [
        "titanic['Survived'].value_counts()"
      ]
    },
    {
      "cell_type": "markdown",
      "metadata": {
        "id": "CexRaMf1CWP9"
      },
      "source": [
        "the survival rate of each class"
      ]
    },
    {
      "cell_type": "code",
      "execution_count": 6,
      "metadata": {
        "colab": {
          "base_uri": "https://localhost:8080/",
          "height": 466
        },
        "id": "E8o82LC2XWv8",
        "outputId": "b4747c89-45b6-4bd7-f29c-4683281f97b5"
      },
      "outputs": [
        {
          "data": {
            "text/plain": [
              "<Axes: xlabel='Pclass', ylabel='Survived'>"
            ]
          },
          "execution_count": 6,
          "metadata": {},
          "output_type": "execute_result"
        },
        {
          "data": {
            "image/png": "[encoded data removed]",
            "text/plain": [
              "<Figure size 640x480 with 1 Axes>"
            ]
          },
          "metadata": {},
          "output_type": "display_data"
        }
      ],
      "source": [
        "sns.barplot(x='Pclass', y='Survived', data=titanic)"
      ]
    },
    {
      "cell_type": "code",
      "execution_count": 7,
      "metadata": {
        "colab": {
          "base_uri": "https://localhost:8080/",
          "height": 423
        },
        "id": "G2HV0xLWIt9R",
        "outputId": "3aba0f12-4cc5-4c8e-c302-16427b1121de"
      },
      "outputs": [
        {
          "data": {
            "text/plain": [
              "<Axes: ylabel='count'>"
            ]
          },
          "execution_count": 7,
          "metadata": {},
          "output_type": "execute_result"
        },
        {
          "data": {
            "image/png": "[encoded data removed]",
            "text/plain": [
              "<Figure size 640x480 with 1 Axes>"
            ]
          },
          "metadata": {},
          "output_type": "display_data"
        }
      ],
      "source": [
        "titanic['Survived'].value_counts().plot(kind='pie',autopct='%.2f')"
      ]
    },
    {
      "cell_type": "code",
      "execution_count": 8,
      "metadata": {
        "colab": {
          "base_uri": "https://localhost:8080/",
          "height": 442
        },
        "id": "5Nitvt2A-_xP",
        "outputId": "d270d98f-5438-408a-d887-fb6d59771255"
      },
      "outputs": [
        {
          "data": {
            "text/plain": [
              "<Axes: xlabel='Survived'>"
            ]
          },
          "execution_count": 8,
          "metadata": {},
          "output_type": "execute_result"
        },
        {
          "data": {
            "image/png": "[encoded data removed]",
            "text/plain": [
              "<Figure size 640x480 with 1 Axes>"
            ]
          },
          "metadata": {},
          "output_type": "display_data"
        }
      ],
      "source": [
        "titanic['Survived'].value_counts().plot(kind='bar')"
      ]
    },
    {
      "cell_type": "code",
      "execution_count": 9,
      "metadata": {
        "colab": {
          "base_uri": "https://localhost:8080/",
          "height": 423
        },
        "id": "aOVMkslU_lUY",
        "outputId": "4add5b08-0ef0-4235-da29-9b49ffb5ddcb"
      },
      "outputs": [
        {
          "data": {
            "text/plain": [
              "<Axes: ylabel='count'>"
            ]
          },
          "execution_count": 9,
          "metadata": {},
          "output_type": "execute_result"
        },
        {
          "data": {
            "image/png": "[encoded data removed]",
            "text/plain": [
              "<Figure size 640x480 with 1 Axes>"
            ]
          },
          "metadata": {},
          "output_type": "display_data"
        }
      ],
      "source": [
        "titanic['Pclass'].value_counts().plot(kind='pie',autopct='%.2f')"
      ]
    },
    {
      "cell_type": "code",
      "execution_count": 10,
      "metadata": {
        "colab": {
          "base_uri": "https://localhost:8080/",
          "height": 442
        },
        "id": "0vQKqd2WATj2",
        "outputId": "542b67e1-3e54-48b7-ded1-efd86a7d033d"
      },
      "outputs": [
        {
          "data": {
            "text/plain": [
              "<Axes: xlabel='SibSp'>"
            ]
          },
          "execution_count": 10,
          "metadata": {},
          "output_type": "execute_result"
        },
        {
          "data": {
            "image/png": "[encoded data removed]",
            "text/plain": [
              "<Figure size 640x480 with 1 Axes>"
            ]
          },
          "metadata": {},
          "output_type": "display_data"
        }
      ],
      "source": [
        "titanic['SibSp'].value_counts().plot(kind='bar')"
      ]
    },
    {
      "cell_type": "code",
      "execution_count": 11,
      "metadata": {
        "colab": {
          "base_uri": "https://localhost:8080/",
          "height": 442
        },
        "id": "faV6EVYDAtHr",
        "outputId": "14670ce9-896c-42e1-a145-ba4c5865cac9"
      },
      "outputs": [
        {
          "data": {
            "text/plain": [
              "<Axes: xlabel='Parch'>"
            ]
          },
          "execution_count": 11,
          "metadata": {},
          "output_type": "execute_result"
        },
        {
          "data": {
            "image/png": "[encoded data removed]",
            "text/plain": [
              "<Figure size 640x480 with 1 Axes>"
            ]
          },
          "metadata": {},
          "output_type": "display_data"
        }
      ],
      "source": [
        "titanic['Parch'].value_counts().plot(kind='bar')"
      ]
    },
    {
      "cell_type": "code",
      "execution_count": 12,
      "metadata": {
        "colab": {
          "base_uri": "https://localhost:8080/",
          "height": 143
        },
        "id": "pd6JVjdvfu7a",
        "outputId": "2dcc8de5-2749-4a69-995d-42fcdd2a2a75"
      },
      "outputs": [
        {
          "data": {
            "text/html": [
              "<div>\n",
              "<style scoped>\n",
              "    .dataframe tbody tr th:only-of-type {\n",
              "        vertical-align: middle;\n",
              "    }\n",
              "\n",
              "    .dataframe tbody tr th {\n",
              "        vertical-align: top;\n",
              "    }\n",
              "\n",
              "    .dataframe thead th {\n",
              "        text-align: right;\n",
              "    }\n",
              "</style>\n",
              "<table border=\"1\" class=\"dataframe\">\n",
              "  <thead>\n",
              "    <tr style=\"text-align: right;\">\n",
              "      <th></th>\n",
              "      <th>Survived</th>\n",
              "    </tr>\n",
              "    <tr>\n",
              "      <th>Sex</th>\n",
              "      <th></th>\n",
              "    </tr>\n",
              "  </thead>\n",
              "  <tbody>\n",
              "    <tr>\n",
              "      <th>female</th>\n",
              "      <td>1.0</td>\n",
              "    </tr>\n",
              "    <tr>\n",
              "      <th>male</th>\n",
              "      <td>0.0</td>\n",
              "    </tr>\n",
              "  </tbody>\n",
              "</table>\n",
              "</div>"
            ],
            "text/plain": [
              "        Survived\n",
              "Sex             \n",
              "female       1.0\n",
              "male         0.0"
            ]
          },
          "execution_count": 12,
          "metadata": {},
          "output_type": "execute_result"
        }
      ],
      "source": [
        "titanic.groupby('Sex')[['Survived']].mean()"
      ]
    },
    {
      "cell_type": "code",
      "execution_count": 13,
      "metadata": {
        "colab": {
          "base_uri": "https://localhost:8080/",
          "height": 143
        },
        "id": "AETMlhP0huQZ",
        "outputId": "5c43b4cd-5ab2-4cf4-de75-1904c2dcd0e4"
      },
      "outputs": [
        {
          "data": {
            "text/html": [
              "<div>\n",
              "<style scoped>\n",
              "    .dataframe tbody tr th:only-of-type {\n",
              "        vertical-align: middle;\n",
              "    }\n",
              "\n",
              "    .dataframe tbody tr th {\n",
              "        vertical-align: top;\n",
              "    }\n",
              "\n",
              "    .dataframe thead th {\n",
              "        text-align: right;\n",
              "    }\n",
              "</style>\n",
              "<table border=\"1\" class=\"dataframe\">\n",
              "  <thead>\n",
              "    <tr style=\"text-align: right;\">\n",
              "      <th>Pclass</th>\n",
              "      <th>1</th>\n",
              "      <th>2</th>\n",
              "      <th>3</th>\n",
              "    </tr>\n",
              "    <tr>\n",
              "      <th>Sex</th>\n",
              "      <th></th>\n",
              "      <th></th>\n",
              "      <th></th>\n",
              "    </tr>\n",
              "  </thead>\n",
              "  <tbody>\n",
              "    <tr>\n",
              "      <th>female</th>\n",
              "      <td>1</td>\n",
              "      <td>1</td>\n",
              "      <td>1</td>\n",
              "    </tr>\n",
              "    <tr>\n",
              "      <th>male</th>\n",
              "      <td>0</td>\n",
              "      <td>0</td>\n",
              "      <td>0</td>\n",
              "    </tr>\n",
              "  </tbody>\n",
              "</table>\n",
              "</div>"
            ],
            "text/plain": [
              "Pclass  1  2  3\n",
              "Sex            \n",
              "female  1  1  1\n",
              "male    0  0  0"
            ]
          },
          "execution_count": 13,
          "metadata": {},
          "output_type": "execute_result"
        }
      ],
      "source": [
        "titanic.pivot_table('Survived', index='Sex', columns='Pclass')"
      ]
    },
    {
      "cell_type": "code",
      "execution_count": 14,
      "metadata": {
        "colab": {
          "base_uri": "https://localhost:8080/",
          "height": 206
        },
        "id": "lJ5kgleLiSnw",
        "outputId": "2ce9414a-ec92-4ee5-862a-4166f1d8f8fd"
      },
      "outputs": [
        {
          "data": {
            "text/html": [
              "<div>\n",
              "<style scoped>\n",
              "    .dataframe tbody tr th:only-of-type {\n",
              "        vertical-align: middle;\n",
              "    }\n",
              "\n",
              "    .dataframe tbody tr th {\n",
              "        vertical-align: top;\n",
              "    }\n",
              "\n",
              "    .dataframe thead th {\n",
              "        text-align: right;\n",
              "    }\n",
              "</style>\n",
              "<table border=\"1\" class=\"dataframe\">\n",
              "  <thead>\n",
              "    <tr style=\"text-align: right;\">\n",
              "      <th></th>\n",
              "      <th>Pclass</th>\n",
              "      <th>1</th>\n",
              "      <th>2</th>\n",
              "      <th>3</th>\n",
              "    </tr>\n",
              "    <tr>\n",
              "      <th>Sex</th>\n",
              "      <th>Age</th>\n",
              "      <th></th>\n",
              "      <th></th>\n",
              "      <th></th>\n",
              "    </tr>\n",
              "  </thead>\n",
              "  <tbody>\n",
              "    <tr>\n",
              "      <th rowspan=\"2\" valign=\"top\">female</th>\n",
              "      <th>(0, 20]</th>\n",
              "      <td>1</td>\n",
              "      <td>1</td>\n",
              "      <td>1</td>\n",
              "    </tr>\n",
              "    <tr>\n",
              "      <th>(20, 100]</th>\n",
              "      <td>1</td>\n",
              "      <td>1</td>\n",
              "      <td>1</td>\n",
              "    </tr>\n",
              "    <tr>\n",
              "      <th rowspan=\"2\" valign=\"top\">male</th>\n",
              "      <th>(0, 20]</th>\n",
              "      <td>0</td>\n",
              "      <td>0</td>\n",
              "      <td>0</td>\n",
              "    </tr>\n",
              "    <tr>\n",
              "      <th>(20, 100]</th>\n",
              "      <td>0</td>\n",
              "      <td>0</td>\n",
              "      <td>0</td>\n",
              "    </tr>\n",
              "  </tbody>\n",
              "</table>\n",
              "</div>"
            ],
            "text/plain": [
              "Pclass            1  2  3\n",
              "Sex    Age               \n",
              "female (0, 20]    1  1  1\n",
              "       (20, 100]  1  1  1\n",
              "male   (0, 20]    0  0  0\n",
              "       (20, 100]  0  0  0"
            ]
          },
          "execution_count": 14,
          "metadata": {},
          "output_type": "execute_result"
        }
      ],
      "source": [
        "Age = pd.cut(titanic['Age'], [0, 20, 100])\n",
        "titanic.pivot_table('Survived', ['Sex', Age], 'Pclass')"
      ]
    },
    {
      "cell_type": "code",
      "execution_count": 15,
      "metadata": {
        "colab": {
          "base_uri": "https://localhost:8080/"
        },
        "id": "oAtfmKNXjK5Z",
        "outputId": "d986b87b-5ea0-4606-90ab-a91f16338ad9"
      },
      "outputs": [
        {
          "data": {
            "text/plain": [
              "PassengerId      0\n",
              "Survived         0\n",
              "Pclass           0\n",
              "Name             0\n",
              "Sex              0\n",
              "Age             86\n",
              "SibSp            0\n",
              "Parch            0\n",
              "Ticket           0\n",
              "Fare             1\n",
              "Cabin          327\n",
              "Embarked         0\n",
              "dtype: int64"
            ]
          },
          "execution_count": 15,
          "metadata": {},
          "output_type": "execute_result"
        }
      ],
      "source": [
        "titanic.isna().sum()"
      ]
    },
    {
      "cell_type": "code",
      "execution_count": 16,
      "metadata": {
        "colab": {
          "base_uri": "https://localhost:8080/"
        },
        "id": "MHk_yB-Hjqir",
        "outputId": "3dc3e207-8e3c-43d8-d4b5-26c4bd42d993"
      },
      "outputs": [
        {
          "name": "stdout",
          "output_type": "stream",
          "text": [
            "PassengerId\n",
            "892     1\n",
            "1205    1\n",
            "1177    1\n",
            "1176    1\n",
            "1175    1\n",
            "       ..\n",
            "1028    1\n",
            "1027    1\n",
            "1026    1\n",
            "1025    1\n",
            "1309    1\n",
            "Name: count, Length: 418, dtype: int64\n",
            "\n",
            "Survived\n",
            "0    266\n",
            "1    152\n",
            "Name: count, dtype: int64\n",
            "\n",
            "Pclass\n",
            "3    218\n",
            "1    107\n",
            "2     93\n",
            "Name: count, dtype: int64\n",
            "\n",
            "Name\n",
            "Kelly, Mr. James               1\n",
            "Carr, Miss. Jeannie            1\n",
            "Dennis, Mr. William            1\n",
            "Rosblom, Miss. Salli Helena    1\n",
            "Touma, Miss. Maria Youssef     1\n",
            "                              ..\n",
            "Zakarian, Mr. Mapriededer      1\n",
            "Carlsson, Mr. Carl Robert      1\n",
            "Dintcheff, Mr. Valtcho         1\n",
            "Thomas, Mr. Charles P          1\n",
            "Peter, Master. Michael J       1\n",
            "Name: count, Length: 418, dtype: int64\n",
            "\n",
            "Sex\n",
            "male      266\n",
            "female    152\n",
            "Name: count, dtype: int64\n",
            "\n",
            "Age\n",
            "21.0    17\n",
            "24.0    17\n",
            "22.0    16\n",
            "30.0    15\n",
            "18.0    13\n",
            "        ..\n",
            "76.0     1\n",
            "28.5     1\n",
            "22.5     1\n",
            "62.0     1\n",
            "38.5     1\n",
            "Name: count, Length: 79, dtype: int64\n",
            "\n",
            "SibSp\n",
            "0    283\n",
            "1    110\n",
            "2     14\n",
            "3      4\n",
            "4      4\n",
            "8      2\n",
            "5      1\n",
            "Name: count, dtype: int64\n",
            "\n",
            "Parch\n",
            "0    324\n",
            "1     52\n",
            "2     33\n",
            "3      3\n",
            "4      2\n",
            "9      2\n",
            "6      1\n",
            "5      1\n",
            "Name: count, dtype: int64\n",
            "\n",
            "Ticket\n",
            "PC 17608    5\n",
            "CA. 2343    4\n",
            "113503      4\n",
            "PC 17483    3\n",
            "220845      3\n",
            "           ..\n",
            "349226      1\n",
            "2621        1\n",
            "4133        1\n",
            "113780      1\n",
            "2668        1\n",
            "Name: count, Length: 363, dtype: int64\n",
            "\n",
            "Fare\n",
            "7.7500     21\n",
            "26.0000    19\n",
            "13.0000    17\n",
            "8.0500     17\n",
            "7.8958     11\n",
            "           ..\n",
            "7.8208      1\n",
            "8.5167      1\n",
            "78.8500     1\n",
            "52.0000     1\n",
            "22.3583     1\n",
            "Name: count, Length: 169, dtype: int64\n",
            "\n",
            "Cabin\n",
            "B57 B59 B63 B66    3\n",
            "B45                2\n",
            "C89                2\n",
            "C55 C57            2\n",
            "A34                2\n",
            "                  ..\n",
            "E52                1\n",
            "D30                1\n",
            "E31                1\n",
            "C62 C64            1\n",
            "C105               1\n",
            "Name: count, Length: 76, dtype: int64\n",
            "\n",
            "Embarked\n",
            "S    270\n",
            "C    102\n",
            "Q     46\n",
            "Name: count, dtype: int64\n",
            "\n"
          ]
        }
      ],
      "source": [
        "for val in titanic:\n",
        "   print(titanic[val].value_counts())\n",
        "   print()"
      ]
    },
    {
      "cell_type": "code",
      "execution_count": 17,
      "metadata": {
        "id": "pxc7lrlvkDf0"
      },
      "outputs": [
        {
          "data": {
            "text/html": [
              "<div>\n",
              "<style scoped>\n",
              "    .dataframe tbody tr th:only-of-type {\n",
              "        vertical-align: middle;\n",
              "    }\n",
              "\n",
              "    .dataframe tbody tr th {\n",
              "        vertical-align: top;\n",
              "    }\n",
              "\n",
              "    .dataframe thead th {\n",
              "        text-align: right;\n",
              "    }\n",
              "</style>\n",
              "<table border=\"1\" class=\"dataframe\">\n",
              "  <thead>\n",
              "    <tr style=\"text-align: right;\">\n",
              "      <th></th>\n",
              "      <th>PassengerId</th>\n",
              "      <th>Survived</th>\n",
              "      <th>Pclass</th>\n",
              "      <th>Name</th>\n",
              "      <th>Sex</th>\n",
              "      <th>Age</th>\n",
              "      <th>SibSp</th>\n",
              "      <th>Parch</th>\n",
              "      <th>Ticket</th>\n",
              "      <th>Fare</th>\n",
              "      <th>Embarked</th>\n",
              "    </tr>\n",
              "  </thead>\n",
              "  <tbody>\n",
              "    <tr>\n",
              "      <th>0</th>\n",
              "      <td>892</td>\n",
              "      <td>0</td>\n",
              "      <td>3</td>\n",
              "      <td>Kelly, Mr. James</td>\n",
              "      <td>male</td>\n",
              "      <td>34.5</td>\n",
              "      <td>0</td>\n",
              "      <td>0</td>\n",
              "      <td>330911</td>\n",
              "      <td>7.8292</td>\n",
              "      <td>Q</td>\n",
              "    </tr>\n",
              "    <tr>\n",
              "      <th>1</th>\n",
              "      <td>893</td>\n",
              "      <td>1</td>\n",
              "      <td>3</td>\n",
              "      <td>Wilkes, Mrs. James (Ellen Needs)</td>\n",
              "      <td>female</td>\n",
              "      <td>47.0</td>\n",
              "      <td>1</td>\n",
              "      <td>0</td>\n",
              "      <td>363272</td>\n",
              "      <td>7.0000</td>\n",
              "      <td>S</td>\n",
              "    </tr>\n",
              "    <tr>\n",
              "      <th>2</th>\n",
              "      <td>894</td>\n",
              "      <td>0</td>\n",
              "      <td>2</td>\n",
              "      <td>Myles, Mr. Thomas Francis</td>\n",
              "      <td>male</td>\n",
              "      <td>62.0</td>\n",
              "      <td>0</td>\n",
              "      <td>0</td>\n",
              "      <td>240276</td>\n",
              "      <td>9.6875</td>\n",
              "      <td>Q</td>\n",
              "    </tr>\n",
              "    <tr>\n",
              "      <th>3</th>\n",
              "      <td>895</td>\n",
              "      <td>0</td>\n",
              "      <td>3</td>\n",
              "      <td>Wirz, Mr. Albert</td>\n",
              "      <td>male</td>\n",
              "      <td>27.0</td>\n",
              "      <td>0</td>\n",
              "      <td>0</td>\n",
              "      <td>315154</td>\n",
              "      <td>8.6625</td>\n",
              "      <td>S</td>\n",
              "    </tr>\n",
              "    <tr>\n",
              "      <th>4</th>\n",
              "      <td>896</td>\n",
              "      <td>1</td>\n",
              "      <td>3</td>\n",
              "      <td>Hirvonen, Mrs. Alexander (Helga E Lindqvist)</td>\n",
              "      <td>female</td>\n",
              "      <td>22.0</td>\n",
              "      <td>1</td>\n",
              "      <td>1</td>\n",
              "      <td>3101298</td>\n",
              "      <td>12.2875</td>\n",
              "      <td>S</td>\n",
              "    </tr>\n",
              "    <tr>\n",
              "      <th>...</th>\n",
              "      <td>...</td>\n",
              "      <td>...</td>\n",
              "      <td>...</td>\n",
              "      <td>...</td>\n",
              "      <td>...</td>\n",
              "      <td>...</td>\n",
              "      <td>...</td>\n",
              "      <td>...</td>\n",
              "      <td>...</td>\n",
              "      <td>...</td>\n",
              "      <td>...</td>\n",
              "    </tr>\n",
              "    <tr>\n",
              "      <th>409</th>\n",
              "      <td>1301</td>\n",
              "      <td>1</td>\n",
              "      <td>3</td>\n",
              "      <td>Peacock, Miss. Treasteall</td>\n",
              "      <td>female</td>\n",
              "      <td>3.0</td>\n",
              "      <td>1</td>\n",
              "      <td>1</td>\n",
              "      <td>SOTON/O.Q. 3101315</td>\n",
              "      <td>13.7750</td>\n",
              "      <td>S</td>\n",
              "    </tr>\n",
              "    <tr>\n",
              "      <th>411</th>\n",
              "      <td>1303</td>\n",
              "      <td>1</td>\n",
              "      <td>1</td>\n",
              "      <td>Minahan, Mrs. William Edward (Lillian E Thorpe)</td>\n",
              "      <td>female</td>\n",
              "      <td>37.0</td>\n",
              "      <td>1</td>\n",
              "      <td>0</td>\n",
              "      <td>19928</td>\n",
              "      <td>90.0000</td>\n",
              "      <td>Q</td>\n",
              "    </tr>\n",
              "    <tr>\n",
              "      <th>412</th>\n",
              "      <td>1304</td>\n",
              "      <td>1</td>\n",
              "      <td>3</td>\n",
              "      <td>Henriksson, Miss. Jenny Lovisa</td>\n",
              "      <td>female</td>\n",
              "      <td>28.0</td>\n",
              "      <td>0</td>\n",
              "      <td>0</td>\n",
              "      <td>347086</td>\n",
              "      <td>7.7750</td>\n",
              "      <td>S</td>\n",
              "    </tr>\n",
              "    <tr>\n",
              "      <th>414</th>\n",
              "      <td>1306</td>\n",
              "      <td>1</td>\n",
              "      <td>1</td>\n",
              "      <td>Oliva y Ocana, Dona. Fermina</td>\n",
              "      <td>female</td>\n",
              "      <td>39.0</td>\n",
              "      <td>0</td>\n",
              "      <td>0</td>\n",
              "      <td>PC 17758</td>\n",
              "      <td>108.9000</td>\n",
              "      <td>C</td>\n",
              "    </tr>\n",
              "    <tr>\n",
              "      <th>415</th>\n",
              "      <td>1307</td>\n",
              "      <td>0</td>\n",
              "      <td>3</td>\n",
              "      <td>Saether, Mr. Simon Sivertsen</td>\n",
              "      <td>male</td>\n",
              "      <td>38.5</td>\n",
              "      <td>0</td>\n",
              "      <td>0</td>\n",
              "      <td>SOTON/O.Q. 3101262</td>\n",
              "      <td>7.2500</td>\n",
              "      <td>S</td>\n",
              "    </tr>\n",
              "  </tbody>\n",
              "</table>\n",
              "<p>331 rows × 11 columns</p>\n",
              "</div>"
            ],
            "text/plain": [
              "     PassengerId  Survived  Pclass  \\\n",
              "0            892         0       3   \n",
              "1            893         1       3   \n",
              "2            894         0       2   \n",
              "3            895         0       3   \n",
              "4            896         1       3   \n",
              "..           ...       ...     ...   \n",
              "409         1301         1       3   \n",
              "411         1303         1       1   \n",
              "412         1304         1       3   \n",
              "414         1306         1       1   \n",
              "415         1307         0       3   \n",
              "\n",
              "                                                Name     Sex   Age  SibSp  \\\n",
              "0                                   Kelly, Mr. James    male  34.5      0   \n",
              "1                   Wilkes, Mrs. James (Ellen Needs)  female  47.0      1   \n",
              "2                          Myles, Mr. Thomas Francis    male  62.0      0   \n",
              "3                                   Wirz, Mr. Albert    male  27.0      0   \n",
              "4       Hirvonen, Mrs. Alexander (Helga E Lindqvist)  female  22.0      1   \n",
              "..                                               ...     ...   ...    ...   \n",
              "409                        Peacock, Miss. Treasteall  female   3.0      1   \n",
              "411  Minahan, Mrs. William Edward (Lillian E Thorpe)  female  37.0      1   \n",
              "412                   Henriksson, Miss. Jenny Lovisa  female  28.0      0   \n",
              "414                     Oliva y Ocana, Dona. Fermina  female  39.0      0   \n",
              "415                     Saether, Mr. Simon Sivertsen    male  38.5      0   \n",
              "\n",
              "     Parch              Ticket      Fare Embarked  \n",
              "0        0              330911    7.8292        Q  \n",
              "1        0              363272    7.0000        S  \n",
              "2        0              240276    9.6875        Q  \n",
              "3        0              315154    8.6625        S  \n",
              "4        1             3101298   12.2875        S  \n",
              "..     ...                 ...       ...      ...  \n",
              "409      1  SOTON/O.Q. 3101315   13.7750        S  \n",
              "411      0               19928   90.0000        Q  \n",
              "412      0              347086    7.7750        S  \n",
              "414      0            PC 17758  108.9000        C  \n",
              "415      0  SOTON/O.Q. 3101262    7.2500        S  \n",
              "\n",
              "[331 rows x 11 columns]"
            ]
          },
          "execution_count": 17,
          "metadata": {},
          "output_type": "execute_result"
        }
      ],
      "source": [
        "titanic = titanic.drop(['Cabin'], axis=1)\n",
        "titanic = titanic.dropna(subset =['Fare', 'Age'])\n",
        "titanic"
      ]
    },
    {
      "cell_type": "code",
      "execution_count": 18,
      "metadata": {
        "colab": {
          "base_uri": "https://localhost:8080/"
        },
        "id": "A2PXG6xelKtv",
        "outputId": "cd1a9fa7-1911-45f4-e0ce-37586de63078"
      },
      "outputs": [
        {
          "data": {
            "text/plain": [
              "(331, 11)"
            ]
          },
          "execution_count": 18,
          "metadata": {},
          "output_type": "execute_result"
        }
      ],
      "source": [
        "titanic.shape"
      ]
    },
    {
      "cell_type": "code",
      "execution_count": 19,
      "metadata": {
        "colab": {
          "base_uri": "https://localhost:8080/"
        },
        "id": "Gh9Wp_DylXoI",
        "outputId": "c7d10a86-71d8-4873-a8a5-5a7109643538"
      },
      "outputs": [
        {
          "data": {
            "text/plain": [
              "PassengerId      int64\n",
              "Survived         int64\n",
              "Pclass           int64\n",
              "Name            object\n",
              "Sex             object\n",
              "Age            float64\n",
              "SibSp            int64\n",
              "Parch            int64\n",
              "Ticket          object\n",
              "Fare           float64\n",
              "Embarked        object\n",
              "dtype: object"
            ]
          },
          "execution_count": 19,
          "metadata": {},
          "output_type": "execute_result"
        }
      ],
      "source": [
        "titanic.dtypes"
      ]
    },
    {
      "cell_type": "code",
      "execution_count": 20,
      "metadata": {
        "colab": {
          "base_uri": "https://localhost:8080/"
        },
        "id": "hPCHzxW1lmS7",
        "outputId": "bd84b530-264f-4969-8b3c-1901c25e353e"
      },
      "outputs": [
        {
          "name": "stdout",
          "output_type": "stream",
          "text": [
            "['Kelly, Mr. James' 'Wilkes, Mrs. James (Ellen Needs)'\n",
            " 'Myles, Mr. Thomas Francis' 'Wirz, Mr. Albert'\n",
            " 'Hirvonen, Mrs. Alexander (Helga E Lindqvist)'\n",
            " 'Svensson, Mr. Johan Cervin' 'Connolly, Miss. Kate'\n",
            " 'Caldwell, Mr. Albert Francis'\n",
            " 'Abrahim, Mrs. Joseph (Sophie Halaut Easu)' 'Davies, Mr. John Samuel'\n",
            " 'Jones, Mr. Charles Cresson'\n",
            " 'Snyder, Mrs. John Pillsbury (Nelle Stevenson)' 'Howard, Mr. Benjamin'\n",
            " 'Chaffee, Mrs. Herbert Fuller (Carrie Constance Toogood)'\n",
            " 'del Carlo, Mrs. Sebastiano (Argenia Genovesi)' 'Keane, Mr. Daniel'\n",
            " 'Assaf, Mr. Gerios' 'Ilmakangas, Miss. Ida Livija'\n",
            " 'Assaf Khalil, Mrs. Mariana (Miriam\")\"' 'Rothschild, Mr. Martin'\n",
            " 'Olsen, Master. Artur Karl' 'Williams, Mr. Richard Norris II'\n",
            " 'Ryerson, Mrs. Arthur Larned (Emily Maria Borie)'\n",
            " 'Robins, Mr. Alexander A' 'Ostby, Miss. Helene Ragnhild'\n",
            " 'Daher, Mr. Shedid' 'Brady, Mr. John Bertram'\n",
            " 'Louch, Mr. Charles Alexander' 'Jefferys, Mr. Clifford Thomas'\n",
            " 'Dean, Mrs. Bertram (Eva Georgetta Light)' 'Mock, Mr. Philipp Edmund'\n",
            " 'Katavelas, Mr. Vassilios (Catavelas Vassilios\")\"' 'Cacic, Miss. Manda'\n",
            " 'Sap, Mr. Julius' 'Karun, Mr. Franz' 'Goldsmith, Mr. Nathan'\n",
            " 'Corbett, Mrs. Walter H (Irene Colvin)'\n",
            " 'Kimball, Mrs. Edwin Nelson Jr (Gertrude Parsons)'\n",
            " 'Peltomaki, Mr. Nikolai Johannes' 'Chevre, Mr. Paul Romaine'\n",
            " 'Bucknell, Mrs. William Robert (Emma Eliza Ward)'\n",
            " 'Coutts, Mrs. William (Winnie Minnie\" Treanor)\"'\n",
            " 'Smith, Mr. Lucien Philip' 'Pulbaum, Mr. Franz'\n",
            " 'Hocking, Miss. Ellen Nellie\"\"' 'Fortune, Miss. Ethel Flora'\n",
            " 'Rice, Master. Albert' 'Cor, Mr. Bartol' 'Abelseth, Mr. Olaus Jorgensen'\n",
            " 'Chaudanson, Miss. Victorine' 'Dika, Mr. Mirko'\n",
            " 'McCrae, Mr. Arthur Gordon' 'Bjorklund, Mr. Ernst Herbert'\n",
            " 'Bradley, Miss. Bridget Delia' 'Ryerson, Master. John Borie'\n",
            " 'Burns, Miss. Mary Delia' 'Moore, Mr. Clarence Bloomfield'\n",
            " 'Tucker, Mr. Gilbert Milligan Jr' 'Fortune, Mrs. Mark (Mary McDougald)'\n",
            " 'Mulvihill, Miss. Bertha E' 'Minkoff, Mr. Lazar'\n",
            " 'Nieminen, Miss. Manta Josefina' 'Ovies y Rodriguez, Mr. Servando'\n",
            " 'Geiger, Miss. Amalie' 'Keeping, Mr. Edwin'\n",
            " 'Cornell, Mrs. Robert Clifford (Malvina Helen Lamson)'\n",
            " 'Aldworth, Mr. Charles Augustus' 'Doyle, Miss. Elizabeth'\n",
            " 'Boulos, Master. Akar' 'Straus, Mr. Isidor' 'Case, Mr. Howard Brown'\n",
            " 'Barry, Miss. Julia' 'Badman, Miss. Emily Louisa'\n",
            " 'Wells, Master. Ralph Lester'\n",
            " 'Dyker, Mrs. Adolf Fredrik (Anna Elisabeth Judith Andersson)'\n",
            " 'Davidson, Mrs. Thornton (Orian Hays)' 'Birnbaum, Mr. Jakob'\n",
            " 'Tenglin, Mr. Gunnar Isidor'\n",
            " 'Cavendish, Mrs. Tyrell William (Julia Florence Siegel)'\n",
            " 'Makinen, Mr. Kalle Edvard' 'Braf, Miss. Elin Ester Maria'\n",
            " 'Nancarrow, Mr. William Henry'\n",
            " 'Stengel, Mrs. Charles Emil Henry (Annie May Morris)'\n",
            " 'Weisz, Mr. Leopold' 'Johansson Palmquist, Mr. Oskar Leander'\n",
            " 'Thomas, Mrs. Alexander (Thamine Thelma\")\"' 'Holthen, Mr. Johan Martin'\n",
            " 'Buckley, Mr. Daniel' 'Swane, Mr. George' 'Stanton, Mr. Samuel Ward'\n",
            " 'Evans, Miss. Edith Corse' 'Buckley, Miss. Katherine'\n",
            " 'Straus, Mrs. Isidor (Rosalie Ida Blun)' 'Chronopoulos, Mr. Demetrios'\n",
            " 'Sandstrom, Miss. Beatrice Irene' 'Beattie, Mr. Thomson'\n",
            " 'Chapman, Mrs. John Henry (Sara Elizabeth Lawry)' 'Watt, Miss. Bertha J'\n",
            " 'Schabert, Mrs. Paul (Emma Mock)' 'Carver, Mr. Alfred John'\n",
            " 'Cribb, Miss. Laura Alice' 'Brobeck, Mr. Karl Rudolf'\n",
            " 'Bowenur, Mr. Solomon' 'Petersen, Mr. Marius' 'Spinner, Mr. Henry John'\n",
            " 'Gracie, Col. Archibald IV' 'Dintcheff, Mr. Valtcho'\n",
            " 'Carlsson, Mr. Carl Robert' 'Zakarian, Mr. Mapriededer'\n",
            " 'Schmidt, Mr. August' 'Drapkin, Miss. Jennie'\n",
            " 'Goodwin, Mr. Charles Frederick' 'Goodwin, Miss. Jessie Allis'\n",
            " 'Daniels, Miss. Sarah' 'Ryerson, Mr. Arthur Larned'\n",
            " 'Beauchamp, Mr. Henry James'\n",
            " 'Lindeberg-Lind, Mr. Erik Gustaf (Mr Edward Lingrey\")\"'\n",
            " 'Vander Planke, Mr. Julius' 'Davies, Mr. Evan' 'Lahtinen, Rev. William'\n",
            " 'Earnshaw, Mrs. Boulton (Olive Potter)'\n",
            " 'Klasen, Mrs. (Hulda Kristina Eugenia Lofqvist)'\n",
            " 'Asplund, Master. Filip Oscar' 'Duquemin, Mr. Joseph' 'Bird, Miss. Ellen'\n",
            " 'Lundin, Miss. Olga Elida' 'Borebank, Mr. John James'\n",
            " 'Peacock, Mrs. Benjamin (Edith Nile)' 'Touma, Master. Georges Youssef'\n",
            " 'Wright, Miss. Marion' 'Peruschitz, Rev. Joseph Maria'\n",
            " 'Kink-Heilmann, Mrs. Anton (Luise Heilmann)' 'Brandeis, Mr. Emil'\n",
            " 'Ford, Mr. Edward Watson' 'Hellstrom, Miss. Hilda Maria'\n",
            " 'Zakarian, Mr. Ortin' 'Dyker, Mr. Adolf Fredrik'\n",
            " 'Asplund, Mr. Carl Oscar Vilhelm Gustafsson' 'Brown, Miss. Edith Eileen'\n",
            " 'Sincock, Miss. Maude' 'Stengel, Mr. Charles Emil Henry'\n",
            " 'Becker, Mrs. Allen Oliver (Nellie E Baumgardner)'\n",
            " 'Compton, Mrs. Alexander Taylor (Mary Eliza Ingersoll)'\n",
            " 'McCrie, Mr. James Matthew' 'Compton, Mr. Alexander Taylor Jr'\n",
            " 'Marvin, Mrs. Daniel Warner (Mary Graham Carmichael Farquarson)'\n",
            " 'Douglas, Mrs. Frederick Charles (Mary Helene Baxter)'\n",
            " 'Maybery, Mr. Frank Hubert' 'Phillips, Miss. Alice Frances Louisa'\n",
            " 'Davies, Mr. Joseph' 'Veal, Mr. James' 'Angle, Mr. William A'\n",
            " 'van Billiard, Master. Walter John' 'Lingane, Mr. John'\n",
            " 'Drew, Master. Marshall Brines' 'Karlsson, Mr. Julius Konrad Eugen'\n",
            " 'Spedden, Master. Robert Douglas' 'Nilsson, Miss. Berta Olivia'\n",
            " 'Baimbrigge, Mr. Charles Robert'\n",
            " 'Danbom, Master. Gilbert Sigvard Emanuel' 'Astor, Col. John Jacob'\n",
            " 'Quick, Miss. Winifred Vera' 'Andrew, Mr. Frank Thomas'\n",
            " 'McGowan, Miss. Katherine' 'Collett, Mr. Sidney C Stuart'\n",
            " 'Rosenbaum, Miss. Edith Louise' 'Delalic, Mr. Redjo'\n",
            " 'Andersen, Mr. Albert Karvin' 'Deacon, Mr. Percy William'\n",
            " 'Howard, Mrs. Benjamin (Ellen Truelove Arman)'\n",
            " 'Andersson, Miss. Ida Augusta Margareta' 'Head, Mr. Christopher'\n",
            " 'Wick, Mr. George Dennick' 'Widener, Mrs. George Dunton (Eleanor Elkins)'\n",
            " 'Duran y More, Miss. Florentina' 'Reynolds, Mr. Harold J'\n",
            " 'Cook, Mrs. (Selena Rogers)' 'Karlsson, Mr. Einar Gervasius'\n",
            " 'Candee, Mrs. Edward (Helen Churchill Hungerford)'\n",
            " 'Asplund, Mr. Johan Charles' 'Everett, Mr. Thomas James'\n",
            " 'Hocking, Mr. Samuel James Metcalfe' 'Sweet, Mr. George Frederick'\n",
            " 'Willard, Miss. Constance' 'Wiklund, Mr. Karl Johan'\n",
            " 'Cumings, Mr. John Bradley' 'Vendel, Mr. Olof Edvin'\n",
            " 'Warren, Mr. Frank Manley' 'Baccos, Mr. Raffull' 'Hiltunen, Miss. Marta'\n",
            " 'Douglas, Mrs. Walter Donald (Mahala Dutton)'\n",
            " 'Lindstrom, Mrs. Carl Johan (Sigrid Posse)'\n",
            " 'Christy, Mrs. (Alice Frances)' 'Spedden, Mr. Frederic Oakley'\n",
            " 'Kenyon, Mr. Frederick R' 'Karnes, Mrs. J Frank (Claire Bennett)'\n",
            " 'Drew, Mr. James Vivian' 'Hold, Mrs. Stephen (Annie Margaret Hill)'\n",
            " 'West, Miss. Barbara J' 'Abrahamsson, Mr. Abraham August Johannes'\n",
            " 'Clark, Mr. Walter Miller' 'Salander, Mr. Karl Johan'\n",
            " 'Wenzel, Mr. Linhart' 'Niklasson, Mr. Samuel' 'Bentham, Miss. Lilian W'\n",
            " 'Midtsjo, Mr. Karl Albert' 'de Messemaeker, Mr. Guillaume Joseph'\n",
            " 'Nilsson, Mr. August Ferdinand'\n",
            " 'Wells, Mrs. Arthur Henry (Addie\" Dart Trevaskis)\"'\n",
            " 'Klasen, Miss. Gertrud Emilia' 'Portaluppi, Mr. Emilio Ilario Giuseppe'\n",
            " 'Pokrnic, Mr. Mate' 'McCaffry, Mr. Thomas Francis'\n",
            " 'Clark, Mrs. Walter Miller (Virginia McDowell)'\n",
            " 'Bryhl, Miss. Dagmar Jenny Ingeborg ' 'Parker, Mr. Clifford Richard'\n",
            " 'Faunthorpe, Mr. Harry' 'Ware, Mr. John James'\n",
            " 'Oxenham, Mr. Percy Thomas' 'Oreskovic, Miss. Jelka'\n",
            " 'Peacock, Master. Alfred Edward' 'Touma, Miss. Maria Youssef'\n",
            " 'Rosblom, Miss. Salli Helena' 'Dennis, Mr. William'\n",
            " 'Snyder, Mr. John Pillsbury' 'Daly, Miss. Margaret Marcella Maggie\"\"'\n",
            " 'Dodge, Dr. Washington' 'Wittevrongel, Mr. Camille'\n",
            " 'Angheloff, Mr. Minko' 'Laroche, Miss. Louise'\n",
            " 'Loring, Mr. Joseph Holland' 'Johansson, Mr. Nils'\n",
            " 'Olsson, Mr. Oscar Wilhelm' 'Phillips, Mr. Escott Robert'\n",
            " 'Pokrnic, Mr. Tome'\n",
            " 'Crosby, Mrs. Edward Gifford (Catherine Elizabeth Halstead)'\n",
            " 'Allison, Mr. Hudson Joshua Creighton' 'Aks, Master. Philip Frank'\n",
            " 'Hays, Mr. Charles Melville' 'Hansen, Mrs. Claus Peter (Jennie L Howard)'\n",
            " 'Cacic, Mr. Jego Grga' 'Vartanian, Mr. David' 'Carr, Miss. Jeannie'\n",
            " 'White, Mrs. John Stuart (Ella Holmes)' 'Hagardon, Miss. Kate'\n",
            " 'Spencer, Mr. William Augustus' 'Rogers, Mr. Reginald Harry'\n",
            " 'Jonsson, Mr. Nils Hilding' 'Jefferys, Mr. Ernest Wilfred'\n",
            " 'Andersson, Mr. Johan Samuel' 'Krekorian, Mr. Neshan'\n",
            " 'Nesson, Mr. Israel' 'Rowe, Mr. Alfred G' 'Kreuchen, Miss. Emilie'\n",
            " 'Assam, Mr. Ali' 'Becker, Miss. Ruth Elizabeth'\n",
            " 'Rosenshine, Mr. George (Mr George Thorne\")\"'\n",
            " 'Clarke, Mr. Charles Valentine' 'Enander, Mr. Ingvar'\n",
            " 'Davies, Mrs. John Morgan (Elizabeth Agnes Mary White) '\n",
            " 'Dulles, Mr. William Crothers' 'Nakid, Mrs. Said (Waika Mary\" Mowad)\"'\n",
            " 'Cor, Mr. Ivan' 'Maguire, Mr. John Edward' 'de Brito, Mr. Jose Joaquim'\n",
            " 'Elias, Mr. Joseph' 'Denbury, Mr. Herbert'\n",
            " 'Fillbrook, Mr. Joseph Charles' 'Lundstrom, Mr. Thure Edvin'\n",
            " 'Cardeza, Mrs. James Warburton Martinez (Charlotte Wardle Drake)'\n",
            " 'Abelseth, Miss. Karen Marie' 'Botsford, Mr. William Hull'\n",
            " 'Whabee, Mrs. George Joseph (Shawneene Abi-Saab)' 'Giles, Mr. Ralph'\n",
            " 'Walcroft, Miss. Nellie' 'Greenfield, Mrs. Leo David (Blanche Strouse)'\n",
            " 'Stokes, Mr. Philip Joseph' 'Dibden, Mr. William' 'Herman, Mr. Samuel'\n",
            " 'Dean, Miss. Elizabeth Gladys Millvina\"\"' 'Julian, Mr. Henry Forbes'\n",
            " 'Brown, Mrs. John Murray (Caroline Lane Lamson)'\n",
            " 'Lindell, Mrs. Edvard Bengtsson (Elin Gerda Persson)'\n",
            " 'Sage, Master. William Henry' 'Mallet, Mrs. Albert (Antoinette Magnin)'\n",
            " 'Ware, Mrs. John James (Florence Louise Long)' 'Strilic, Mr. Ivan'\n",
            " 'Harder, Mrs. George Achilles (Dorothy Annan)'\n",
            " 'Riihivouri, Miss. Susanna Juhantytar Sanni\"\"'\n",
            " 'Gibson, Mrs. Leonard (Pauline C Boeson)' 'Pallas y Castello, Mr. Emilio'\n",
            " 'Giles, Mr. Edgar' 'Wilson, Miss. Helen Alice' 'Ismay, Mr. Joseph Bruce'\n",
            " 'Harbeck, Mr. William H' 'Dodge, Mrs. Washington (Ruth Vidaver)'\n",
            " 'Bowen, Miss. Grace Scott' 'Kink, Miss. Maria'\n",
            " 'Cotterill, Mr. Henry Harry\"\"' 'Hipkins, Mr. William Edward'\n",
            " 'Asplund, Master. Carl Edgar' 'Foley, Mr. Joseph'\n",
            " \"McNamee, Mrs. Neal (Eileen O'Leary)\" 'Herman, Miss. Kate'\n",
            " 'Aronsson, Mr. Ernst Axel Algot' 'Ashby, Mr. John' 'Canavan, Mr. Patrick'\n",
            " 'Palsson, Master. Paul Folke' 'Payne, Mr. Vivian Ponsonby'\n",
            " 'Lines, Mrs. Ernest H (Elizabeth Lindsey James)'\n",
            " 'Abbott, Master. Eugene Joseph' 'Gilbert, Mr. William'\n",
            " 'Kink-Heilmann, Mr. Anton'\n",
            " 'Smith, Mrs. Lucien Philip (Mary Eloise Hughes)' 'Colbert, Mr. Patrick'\n",
            " 'Frolicher-Stehli, Mrs. Maxmillian (Margaretha Emerentia Stehli)'\n",
            " 'Larsson-Rondberg, Mr. Edvard A' 'Conlon, Mr. Thomas Henry'\n",
            " 'Bonnell, Miss. Caroline' 'Gale, Mr. Harry'\n",
            " 'Gibson, Miss. Dorothy Winifred' 'Carrau, Mr. Jose Pedro'\n",
            " 'Frauenthal, Mr. Isaac Gerald'\n",
            " 'Nourney, Mr. Alfred (Baron von Drachstedt\")\"'\n",
            " 'Ware, Mr. William Jeffery' 'Widener, Mr. George Dunton'\n",
            " 'Peacock, Miss. Treasteall'\n",
            " 'Minahan, Mrs. William Edward (Lillian E Thorpe)'\n",
            " 'Henriksson, Miss. Jenny Lovisa' 'Oliva y Ocana, Dona. Fermina'\n",
            " 'Saether, Mr. Simon Sivertsen']\n",
            "['male' 'female']\n",
            "['330911' '363272' '240276' '315154' '3101298' '7538' '330972' '248738'\n",
            " '2657' 'A/4 48871' '694' '21228' '24065' 'W.E.P. 5734' 'SC/PARIS 2167'\n",
            " '233734' '2692' 'STON/O2. 3101270' '2696' 'PC 17603' 'C 17368' 'PC 17597'\n",
            " 'PC 17608' 'A/5. 3337' '113509' '2698' '113054' 'SC/AH 3085' 'C.A. 31029'\n",
            " 'C.A. 2315' '13236' '2682' '315087' '345768' '349256'\n",
            " 'SOTON/O.Q. 3101263' '237249' '11753' 'STON/O 2. 3101291' 'PC 17594'\n",
            " '11813' 'C.A. 37671' '13695' 'SC/PARIS 2168' '29105' '19950' '382652'\n",
            " '349230' '348122' '349232' '237216' '347090' '334914' '330963' '113796'\n",
            " '2543' '382653' '349211' '3101297' 'PC 17562' '113503' '11770' '248744'\n",
            " '368702' '2678' 'PC 17483' '19924' '330844' 'A/4 31416' '29103' '347072'\n",
            " 'F.C. 12750' '13905' '350033' '19877' 'STON/O 2. 3101268' '347471'\n",
            " 'A./5. 3338' '11778' '228414' '347070' '2625' 'C 4001' '330920' '248734'\n",
            " '237734' 'PC 17531' '329944' '2680' 'PP 9549' '13050' 'SC/AH 29037'\n",
            " 'C.A. 33595' '392095' '371362' '350045' '211535' '342441'\n",
            " 'STON/OQ. 369943' '113780' '349226' '350409' '2656' '248659'\n",
            " 'SOTON/OQ 392083' 'CA 2144' '113781' '244358' '17475' '345763'\n",
            " 'SC/A4 23568' '250651' '11767' '350405' '347077' 'S.O./P.P. 752' '347469'\n",
            " '110489' 'SOTON/O.Q. 3101315' '2650' '220844' '237393' '315153'\n",
            " 'PC 17591' 'W./C. 6608' '7548' '2670' '29750' 'C.A. 33112' '230136'\n",
            " 'PC 17756' '233478' '113773' 'PC 17558' '239059' 'S.O./P.P. 2'\n",
            " 'A/4 48873' '28221' '226875' 'A/5. 851' '235509' '28220' '347465' '16966'\n",
            " '347066' 'C.A. 31030' '347080' 'PC 17757' '26360' 'C.A. 34050' '9232'\n",
            " '28034' 'PC 17613' '349250' 'S.O.C. 14879' '347091' '113038' '36928'\n",
            " 'SC/PARIS 2148' '342684' 'W./C. 14266' '350053' 'PC 17606' '350054'\n",
            " 'C.A. 6212' '242963' '220845' '113795' '3101266' 'PC 17599' '350416'\n",
            " '110813' '2679' '250650' 'PC 17761' '112377' '237789' '17464'\n",
            " 'F.C.C. 13534' '26707' 'C.A. 34651' 'SOTON/O2 3101284' '13508' '7266'\n",
            " '345775' '363611' '28404' '345501' '345572' '350410' 'C.A. 34644'\n",
            " '315095' '236853' 'SC 14888' '2926' 'CA 31352' 'W./C. 14260' '315085'\n",
            " '370129' 'A/5 21175' '382650' '33638' '345771' '349202' 'SC/Paris 2123'\n",
            " '113801' '347467' '347079' '315092' '112901' '392091' '12749' '350026'\n",
            " '315091' '2658' '368364' 'PC 17760' 'AQ/3. 30631' 'PC 17569' '28004'\n",
            " '350408' '347075' '2654' '244368' '113790' '24160' 'SOTON/O.Q. 3101309'\n",
            " 'PC 17585' '2003' '236854' 'PC 17580' '2653' '349229' '110469' '244360'\n",
            " '2675' 'C.A. 15185' '350403' 'PC 17755' '348125' '237670' '2688' '248726'\n",
            " 'F.C.C. 13528' 'PC 17759' 'F.C.C. 13540' '113044' '11769' '349910'\n",
            " 'CA. 2343' 'S.C./PARIS 2079' '315083' '11765' '3101295' '112378'\n",
            " 'SC/PARIS 2147' '28133' '112058' '248746' '315152' '29107' '680' '330910'\n",
            " '376566' '349911' '244346' '364858' '349909' 'PC 17592' 'C.A. 2673'\n",
            " 'C.A. 30769' '371109' '13567' '347065' '21332' '28664' '113059' '17765'\n",
            " 'SC/PARIS 2166' '28666' '19928' '347086' 'PC 17758' 'SOTON/O.Q. 3101262']\n",
            "['Q' 'S' 'C']\n"
          ]
        }
      ],
      "source": [
        "print(titanic['Name'].unique())\n",
        "print(titanic['Sex'].unique())\n",
        "print(titanic['Ticket'].unique())\n",
        "print(titanic['Embarked'].unique())"
      ]
    },
    {
      "cell_type": "code",
      "execution_count": 21,
      "metadata": {
        "colab": {
          "base_uri": "https://localhost:8080/"
        },
        "id": "Ygkuxn5_mb_c",
        "outputId": "fd76f4f2-c301-45d1-d441-b9a9f3ece34b"
      },
      "outputs": [
        {
          "name": "stdout",
          "output_type": "stream",
          "text": [
            "[1 0]\n",
            "[182 318 220 322 159 289 80 56 4 97 172 277 164 66 329 180 21 166 20 261\n",
            " 230 320 265 256 233 91 43 201 168 102 217 179 54 270 178 142 84 184 243\n",
            " 69 52 87 274 251 160 131 254 82 2 68 107 210 35 42 263 53 218 296 132 219\n",
            " 216 224 234 136 181 85 6 113 39 286 64 27 25 308 121 95 34 292 65 205 44\n",
            " 222 284 307 170 293 163 51 290 282 125 50 287 71 269 28 67 306 271 63 88\n",
            " 46 41 245 281 145 108 60 325 272 114 144 143 94 264 29 195 297 96 192 122\n",
            " 189 17 118 33 202 37 242 294 324 244 187 45 130 153 326 120 18 47 273 283\n",
            " 31 78 211 77 207 111 208 246 98 299 13 330 199 115 176 278 226 26 93 23\n",
            " 252 11 212 76 259 103 8 100 165 9 152 314 316 119 253 81 175 58 19 126\n",
            " 161 291 319 317 90 300 305 24 157 112 197 70 279 183 177 116 162 311 3 72\n",
            " 268 310 225 32 214 328 227 309 188 250 248 209 73 49 238 127 302 235 232\n",
            " 240 295 258 105 276 92 109 323 12 193 200 171 231 247 249 89 7 5 151 148\n",
            " 55 298 61 313 147 280 257 173 169 10 190 223 262 191 22 30 260 74 124 99\n",
            " 117 221 83 204 327 123 104 128 203 59 1 38 312 141 301 146 285 106 156\n",
            " 101 174 48 196 267 206 304 288 150 255 138 236 140 321 167 149 110 40 185\n",
            " 86 158 16 129 213 155 14 15 57 237 239 198 0 139 186 275 75 134 194 79 36\n",
            " 135 137 62 133 228 303 315 241 215 154 229 266]\n",
            "[128 181 63 124 115 199 131 74 86 204 197 44 64 283 267 52 96 278 97 244\n",
            " 210 242 246 207 12 98 9 263 216 213 29 94 118 139 166 271 57 20 277 241\n",
            " 26 223 32 268 108 41 192 163 157 164 56 151 132 130 18 79 193 160 114 235\n",
            " 11 24 75 185 91 232 39 126 203 107 145 228 33 171 38 276 156 202 25 49\n",
            " 144 80 211 129 73 60 233 125 93 255 28 262 219 195 189 172 43 134 279 14\n",
            " 161 178 85 71 275 225 15 68 36 138 261 78 22 176 147 258 155 1 273 82 46\n",
            " 58 123 239 282 200 88 111 218 50 249 51 13 234 62 257 205 103 48 208 53\n",
            " 102 153 34 143 217 149 250 81 220 201 100 247 165 259 152 7 186 265 135\n",
            " 281 173 245 174 224 66 47 17 112 243 180 2 92 77 254 4 61 35 230 89 222\n",
            " 274 30 198 141 182 104 136 137 179 221 121 54 260 110 226 280 117 187 206\n",
            " 191 133 140 159 269 19 154 148 120 6 194 27 170 119 87 184 253 209 236 99\n",
            " 177 146 84 70 16 65 272 238 42 55 237 83 162 0 69 90 212 175 248 158 59\n",
            " 95 72 229 252 231 8 23 168 227 256 116 21 113 5 264 101 3 76 122 109 196\n",
            " 127 190 169 67 183 167 240 214 215 188 31 142 45 105 10 37 266 106 40 150\n",
            " 251 270]\n",
            "[1 2 0]\n"
          ]
        }
      ],
      "source": [
        "from sklearn.preprocessing import LabelEncoder\n",
        "labelencoder = LabelEncoder()\n",
        "\n",
        "titanic.iloc[:,4]= labelencoder.fit_transform(titanic.iloc[:,4].values)\n",
        "titanic.iloc[:,3]= labelencoder.fit_transform(titanic.iloc[:,3].values)\n",
        "titanic.iloc[:,8]= labelencoder.fit_transform(titanic.iloc[:,8].values)\n",
        "titanic.iloc[:,10]= labelencoder.fit_transform(titanic.iloc[:,10].values)\n",
        "\n",
        "print(titanic['Sex'].unique())\n",
        "print(titanic['Name'].unique())\n",
        "print(titanic['Ticket'].unique())\n",
        "print(titanic['Embarked'].unique())"
      ]
    },
    {
      "cell_type": "code",
      "execution_count": 22,
      "metadata": {
        "id": "RzGB-6pIoi28"
      },
      "outputs": [],
      "source": [
        "X = titanic.iloc[:, 1:8].values\n",
        "Y = titanic.iloc[:, 0].values"
      ]
    },
    {
      "cell_type": "code",
      "execution_count": 23,
      "metadata": {
        "id": "8BtmB9Vgo70T"
      },
      "outputs": [],
      "source": [
        "from sklearn.model_selection import train_test_split\n",
        "X_train, X_test, Y_train, Y_test = train_test_split(X, Y, test_size = 0.2, random_state = 42)"
      ]
    },
    {
      "cell_type": "code",
      "execution_count": 24,
      "metadata": {
        "id": "3GmFKnC1pFZw"
      },
      "outputs": [],
      "source": [
        "from sklearn.preprocessing import StandardScaler\n",
        "sc = StandardScaler()\n",
        "X_train = sc.fit_transform(X_train)\n",
        "X_test = sc.transform(X_test)"
      ]
    },
    {
      "cell_type": "code",
      "execution_count": 25,
      "metadata": {
        "id": "dYUyHmUWpMgC"
      },
      "outputs": [],
      "source": [
        "def models(X_train,Y_train):\n",
        "\n",
        "  from sklearn.linear_model import LogisticRegression\n",
        "  log = LogisticRegression(random_state = 42)\n",
        "  log.fit(X_train, Y_train)\n",
        "\n",
        "  from sklearn.neighbors import KNeighborsClassifier\n",
        "  knn = KNeighborsClassifier(n_neighbors = 5, metric = 'minkowski', p = 2)\n",
        "  knn.fit(X_train, Y_train)\n",
        "\n",
        "  from sklearn.svm import SVC\n",
        "  svc_lin = SVC(kernel = 'linear', random_state = 42)\n",
        "  svc_lin.fit(X_train, Y_train)\n",
        "\n",
        "  from sklearn.svm import SVC\n",
        "  svc_rbf = SVC(kernel = 'rbf', random_state = 42)\n",
        "  svc_rbf.fit(X_train, Y_train)\n",
        "\n",
        "  from sklearn.naive_bayes import GaussianNB\n",
        "  gauss = GaussianNB()\n",
        "  gauss.fit(X_train, Y_train)\n",
        "\n",
        "  from sklearn.tree import DecisionTreeClassifier\n",
        "  tree = DecisionTreeClassifier(criterion = 'entropy', random_state = 42)\n",
        "  tree.fit(X_train, Y_train)\n",
        "\n",
        "  from sklearn.ensemble import RandomForestClassifier\n",
        "  forest = RandomForestClassifier(n_estimators = 10, criterion = 'entropy', random_state = 42)\n",
        "  forest.fit(X_train, Y_train)\n",
        "\n",
        "  print('[0]Logistic Regression Training Accuracy:', log.score(X_train, Y_train))\n",
        "  print('[1]K Nearest Neighbor Training Accuracy:', knn.score(X_train, Y_train))\n",
        "  print('[2]Support Vector Machine (Linear Classifier) Training Accuracy:', svc_lin.score(X_train, Y_train))\n",
        "  print('[3]Support Vector Machine (RBF Classifier) Training Accuracy:', svc_rbf.score(X_train, Y_train))\n",
        "  print('[4]Gaussian Naive Bayes Training Accuracy:', gauss.score(X_train, Y_train))\n",
        "  print('[5]Decision Tree Classifier Training Accuracy:', tree.score(X_train, Y_train))\n",
        "  print('[6]Random Forest Classifier Training Accuracy:', forest.score(X_train, Y_train))\n",
        "\n",
        "  return log, knn, svc_lin, svc_rbf, gauss, tree, forest"
      ]
    },
    {
      "cell_type": "code",
      "execution_count": 26,
      "metadata": {
        "colab": {
          "base_uri": "https://localhost:8080/"
        },
        "id": "IVMh5CmLpcQC",
        "outputId": "7de770e4-7161-45a2-c798-11d2195dc482"
      },
      "outputs": [
        {
          "name": "stdout",
          "output_type": "stream",
          "text": [
            "[0]Logistic Regression Training Accuracy: 0.4583333333333333\n",
            "[1]K Nearest Neighbor Training Accuracy: 0.19318181818181818\n",
            "[2]Support Vector Machine (Linear Classifier) Training Accuracy: 1.0\n",
            "[3]Support Vector Machine (RBF Classifier) Training Accuracy: 1.0\n",
            "[4]Gaussian Naive Bayes Training Accuracy: 1.0\n",
            "[5]Decision Tree Classifier Training Accuracy: 1.0\n",
            "[6]Random Forest Classifier Training Accuracy: 0.9772727272727273\n"
          ]
        }
      ],
      "source": [
        "model = models(X_train,Y_train)"
      ]
    },
    {
      "cell_type": "code",
      "execution_count": 27,
      "metadata": {
        "colab": {
          "base_uri": "https://localhost:8080/",
          "height": 300
        },
        "id": "qR4zSbHkqvw7",
        "outputId": "923688d9-8828-4b30-9e56-49b2abe6c71e"
      },
      "outputs": [
        {
          "data": {
            "text/html": [
              "<div>\n",
              "<style scoped>\n",
              "    .dataframe tbody tr th:only-of-type {\n",
              "        vertical-align: middle;\n",
              "    }\n",
              "\n",
              "    .dataframe tbody tr th {\n",
              "        vertical-align: top;\n",
              "    }\n",
              "\n",
              "    .dataframe thead th {\n",
              "        text-align: right;\n",
              "    }\n",
              "</style>\n",
              "<table border=\"1\" class=\"dataframe\">\n",
              "  <thead>\n",
              "    <tr style=\"text-align: right;\">\n",
              "      <th></th>\n",
              "      <th>importance</th>\n",
              "    </tr>\n",
              "    <tr>\n",
              "      <th>feature</th>\n",
              "      <th></th>\n",
              "    </tr>\n",
              "  </thead>\n",
              "  <tbody>\n",
              "    <tr>\n",
              "      <th>Name</th>\n",
              "      <td>0.313</td>\n",
              "    </tr>\n",
              "    <tr>\n",
              "      <th>Age</th>\n",
              "      <td>0.286</td>\n",
              "    </tr>\n",
              "    <tr>\n",
              "      <th>Pclass</th>\n",
              "      <td>0.141</td>\n",
              "    </tr>\n",
              "    <tr>\n",
              "      <th>SibSp</th>\n",
              "      <td>0.087</td>\n",
              "    </tr>\n",
              "    <tr>\n",
              "      <th>Survived</th>\n",
              "      <td>0.058</td>\n",
              "    </tr>\n",
              "    <tr>\n",
              "      <th>Sex</th>\n",
              "      <td>0.058</td>\n",
              "    </tr>\n",
              "    <tr>\n",
              "      <th>Parch</th>\n",
              "      <td>0.057</td>\n",
              "    </tr>\n",
              "  </tbody>\n",
              "</table>\n",
              "</div>"
            ],
            "text/plain": [
              "          importance\n",
              "feature             \n",
              "Name           0.313\n",
              "Age            0.286\n",
              "Pclass         0.141\n",
              "SibSp          0.087\n",
              "Survived       0.058\n",
              "Sex            0.058\n",
              "Parch          0.057"
            ]
          },
          "execution_count": 27,
          "metadata": {},
          "output_type": "execute_result"
        }
      ],
      "source": [
        "forest = model[6]\n",
        "importances = pd.DataFrame({'feature':titanic.iloc[:, 1:8].columns,'importance':np.round(forest.feature_importances_,3)})\n",
        "importances = importances.sort_values('importance',ascending=False).set_index('feature')\n",
        "importances"
      ]
    },
    {
      "cell_type": "code",
      "execution_count": 28,
      "metadata": {
        "colab": {
          "base_uri": "https://localhost:8080/",
          "height": 513
        },
        "id": "3waMIYUHq04L",
        "outputId": "047790f0-ccd1-47d3-c3c2-b03f7e4b1837"
      },
      "outputs": [
        {
          "data": {
            "text/plain": [
              "<Axes: xlabel='feature'>"
            ]
          },
          "execution_count": 28,
          "metadata": {},
          "output_type": "execute_result"
        },
        {
          "data": {
            "image/png": "[encoded data removed]",
            "text/plain": [
              "<Figure size 640x480 with 1 Axes>"
            ]
          },
          "metadata": {},
          "output_type": "display_data"
        }
      ],
      "source": [
        "importances.plot.bar()"
      ]
    },
    {
      "cell_type": "code",
      "execution_count": 29,
      "metadata": {
        "colab": {
          "base_uri": "https://localhost:8080/"
        },
        "id": "OfHngY1-q8Nm",
        "outputId": "75aa5035-ba6c-447b-e3a1-9f8c365a1dc5"
      },
      "outputs": [
        {
          "name": "stdout",
          "output_type": "stream",
          "text": [
            "[1101  913 1053 1049 1215 1035 1032  989 1104 1169 1164 1007  948  920\n",
            " 1221  920 1109 1164 1238 1095 1243 1031  996 1169 1127  971  905  944\n",
            "  896 1042 1285 1107 1004 1210  996 1127  934 1187 1084 1280  937 1179\n",
            " 1061 1217  951  900  935  961  998 1199  996  898 1022  998 1063 1233\n",
            " 1238  900  953 1151 1110 1221 1110 1063  937 1185 1151]\n",
            "\n",
            "[ 919 1281  981 1172  960 1099 1246 1149 1230 1137  984  901 1291 1050\n",
            " 1232 1058 1034 1076  986 1142 1029 1066 1301 1139  897 1030 1245 1218\n",
            " 1207 1294 1265 1270  966  995 1176 1124 1120 1212  947 1039  930  942\n",
            " 1138 1118 1033  979 1114  945 1018 1284 1009 1183 1146  909 1028 1192\n",
            "  899  958 1077 1115 1266 1262 1289  895  987 1200  963]\n"
          ]
        }
      ],
      "source": [
        "pred = model[6].predict(X_test)\n",
        "print(pred)\n",
        "\n",
        "print()\n",
        "\n",
        "print(Y_test)"
      ]
    },
    {
      "cell_type": "code",
      "execution_count": 30,
      "metadata": {
        "colab": {
          "base_uri": "https://localhost:8080/"
        },
        "id": "mJWyeCK7rCjE",
        "outputId": "027acd60-3b49-4332-e781-3fb81b7a8c89"
      },
      "outputs": [
        {
          "name": "stdout",
          "output_type": "stream",
          "text": [
            "[917]\n",
            "You could not make it\n"
          ]
        }
      ],
      "source": [
        "my_survival = [[1,1,1,1,1,1,1]]\n",
        "pred = model[6].predict(my_survival)\n",
        "print(pred)\n",
        "\n",
        "if pred[0] == 0:\n",
        "  print('You survived')\n",
        "else:\n",
        "  print('You could not make it')"
      ]
    }
  ],
  "metadata": {
    "colab": {
      "gpuType": "T4",
      "provenance": []
    },
    "kernelspec": {
      "display_name": "Python 3",
      "name": "python3"
    },
    "language_info": {
      "codemirror_mode": {
        "name": "ipython",
        "version": 3
      },
      "file_extension": ".py",
      "mimetype": "text/x-python",
      "name": "python",
      "nbconvert_exporter": "python",
      "pygments_lexer": "ipython3",
      "version": "3.11.4"
    }
  },
  "nbformat": 4,
  "nbformat_minor": 0
}
